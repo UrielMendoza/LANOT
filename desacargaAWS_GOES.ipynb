{
  "nbformat": 4,
  "nbformat_minor": 0,
  "metadata": {
    "colab": {
      "name": "desacargaAWS_GOES.ipynb",
      "provenance": [],
      "collapsed_sections": [],
      "toc_visible": true,
      "authorship_tag": "ABX9TyOKG0ETpRsv29yihWCaIHWe",
      "include_colab_link": true
    },
    "kernelspec": {
      "name": "python3",
      "display_name": "Python 3"
    }
  },
  "cells": [
    {
      "cell_type": "markdown",
      "metadata": {
        "id": "view-in-github",
        "colab_type": "text"
      },
      "source": [
        "<a href=\"https://colab.research.google.com/github/urielzan/LANOT/blob/master/desacargaAWS_GOES.ipynb\" target=\"_parent\"><img src=\"https://colab.research.google.com/assets/colab-badge.svg\" alt=\"Open In Colab\"/></a>"
      ]
    },
    {
      "cell_type": "code",
      "metadata": {
        "id": "DtrSTxt7KB6c",
        "colab_type": "code",
        "colab": {
          "base_uri": "https://localhost:8080/",
          "height": 34
        },
        "outputId": "449fe224-6a1b-4550-d90c-d0b2c268fef2"
      },
      "source": [
        "#!/usr/bin/env python3\n",
        "# -*- coding: utf-8 -*-\n",
        "\"\"\"\n",
        "Created on Thu Feb  6 16:30:59 2020\n",
        "@author: urielm\n",
        "\"\"\""
      ],
      "execution_count": 3,
      "outputs": [
        {
          "output_type": "execute_result",
          "data": {
            "text/plain": [
              "'\\nCreated on Thu Feb  6 16:30:59 2020\\n@author: urielm\\n'"
            ]
          },
          "metadata": {
            "tags": []
          },
          "execution_count": 3
        }
      ]
    },
    {
      "cell_type": "code",
      "metadata": {
        "id": "mvuaO1tNKRYP",
        "colab_type": "code",
        "colab": {}
      },
      "source": [
        "import os"
      ],
      "execution_count": 0,
      "outputs": []
    },
    {
      "cell_type": "code",
      "metadata": {
        "id": "omwjnbjuKg0X",
        "colab_type": "code",
        "colab": {}
      },
      "source": [
        "def descargaDia(fs,anio,dia,producto,pathOutput):\n",
        "    import numpy as np\n",
        "    from datetime import datetime\n",
        "               \n",
        "    for hora in range(0,24):\n",
        "      \n",
        "      anio = str(anio)\n",
        "      dia = str(dia)\n",
        "      hora = \"{:02d}\".format(hora)   \n",
        "      print('Dia: '+dia)\n",
        "      print('Hora: '+hora)        \n",
        "      files = np.array(fs.ls('/noaa-goes16/'+producto+'/'+anio+'/'+dia+'/'+hora+'/'))  \n",
        "\n",
        "      for file in files:\n",
        "        file = str(file)\n",
        "        archivo = file.split('/')[-1]\n",
        "        banda = archivo.split('-')[-1].split('_')[0][-2:]\n",
        "        escaneo = archivo.split('/')[-1].split('-')[-1].split('_')[0][:2]\n",
        "        fecha = datetime.strptime(archivo.split('_')[3][1:-1],'%Y%j%H%M%S')\n",
        "        fecha = fecha.strftime('%Y/%m/%d %H:%M:%SZ')\n",
        "        \n",
        "        # Filtrar bandas\n",
        "        #if banda == '13':\n",
        "\n",
        "        if (archivo in os.listdir(pathOutput)):\n",
        "          print ('Archivo '+archivo+' ya esta descargado')\n",
        "                \n",
        "        else:\n",
        "          print('Descargando:'+archivo)                    \n",
        "          fs.get(file,pathOutput+archivo)         "
      ],
      "execution_count": 0,
      "outputs": []
    },
    {
      "cell_type": "code",
      "metadata": {
        "id": "lZ4npfKnKl28",
        "colab_type": "code",
        "colab": {}
      },
      "source": [
        "def descargaAWS(anio,inicio,termino,producto,pathOutput):\n",
        "    import s3fs\n",
        "    \n",
        "    # Use the anonymous credentials to access public data\n",
        "    fs = s3fs.S3FileSystem(anon=True)\n",
        "    \n",
        "    # List contents of GOES-16 bucket.\n",
        "    fs.ls('s3://noaa-goes16/')\n",
        "    \n",
        "    # List specific files of GOES-17 CONUS data (multiband format) on a certain hour\n",
        "    # Note: the `s3://` is not required\n",
        "    #files = np.array(fs.ls('/noaa-goes16/ABI-L2-CMIPF/2019/240/01/'))\n",
        "    #print(files)\n",
        "    \n",
        "    # Download the first file, and rename it the same name (without the directory structure)\n",
        "    \n",
        "    print('Año: ',anio)   \n",
        "    print('Inicio: ',inicio)\n",
        "    print('Termino: ',termino)\n",
        "    print('Producto: ',producto)\n",
        "    print('================================')\n",
        "    print('Inicio de descarga')\n",
        "    print('================================')\n",
        "\n",
        "    try: \n",
        "        os.mkdir(pathOutput)\n",
        "    except FileExistsError:\n",
        "        pass\n",
        "\n",
        "    for dia in range(inicio,termino + 1):                \n",
        "      descargaDia(fs,anio,dia,producto,pathOuput)      \n",
        "      "
      ],
      "execution_count": 0,
      "outputs": []
    },
    {
      "cell_type": "code",
      "metadata": {
        "id": "KgSwVBobLs6W",
        "colab_type": "code",
        "colab": {}
      },
      "source": [
        "anio = 2019\n",
        "inicio = 240\n",
        "termino = 241\n",
        "producto = 'ABI-L2-CMIPF'\n",
        "pathOutput = './dataGOES/'\n",
        "descargaAWS(anio,inicio,termino,producto,pathOutput)"
      ],
      "execution_count": 0,
      "outputs": []
    }
  ]
}